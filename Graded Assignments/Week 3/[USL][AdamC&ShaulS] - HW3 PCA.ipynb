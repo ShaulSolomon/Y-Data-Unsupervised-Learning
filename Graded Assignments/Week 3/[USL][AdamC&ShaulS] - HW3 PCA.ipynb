{
 "cells": [
  {
   "cell_type": "markdown",
   "metadata": {
    "colab_type": "text",
    "id": "vIcsAdxyu6m8"
   },
   "source": [
    "# Dimensionality reduction"
   ]
  },
  {
   "cell_type": "markdown",
   "metadata": {
    "colab_type": "text",
    "id": "ZGpzFWRSu6nC"
   },
   "source": [
    "In this task you will practice dimensionality reduction.\n",
    "Use code cells to answer the Tasks and Markdown cells for the Questions (Q's)."
   ]
  },
  {
   "cell_type": "code",
   "execution_count": 1,
   "metadata": {
    "_cell_guid": "b1076dfc-b9ad-4769-8c92-a6c4dae69d19",
    "_uuid": "8f2839f25d086af736a60e9eeb907d3b93b6e0e5",
    "colab": {},
    "colab_type": "code",
    "id": "JNww1m4au6nE"
   },
   "outputs": [],
   "source": [
    "import sklearn\n",
    "from sklearn.tree import DecisionTreeClassifier\n",
    "from sklearn.model_selection import train_test_split\n",
    "from sklearn.datasets import load_breast_cancer\n",
    "import pandas as pd\n",
    "from sklearn.metrics import accuracy_score\n",
    "from sklearn.ensemble import RandomForestClassifier\n",
    "from sklearn.decomposition import PCA\n",
    "from sklearn.datasets import load_wine\n",
    "from sklearn.linear_model import LogisticRegression\n",
    "from sklearn.manifold import LocallyLinearEmbedding as LLE"
   ]
  },
  {
   "cell_type": "markdown",
   "metadata": {
    "colab_type": "text",
    "id": "jNWoiRt2u6nL"
   },
   "source": [
    "# Load data"
   ]
  },
  {
   "cell_type": "code",
   "execution_count": 2,
   "metadata": {
    "colab": {},
    "colab_type": "code",
    "id": "LV5FpICnu6nM"
   },
   "outputs": [],
   "source": [
    "(X, y) = load_wine(return_X_y=True)\n",
    "\n",
    "# split X into training and testing sets\n",
    "X_train, X_test, y_train, y_test = train_test_split(X, y, test_size=0.4, random_state=0,stratify=y)"
   ]
  },
  {
   "cell_type": "markdown",
   "metadata": {
    "colab_type": "text",
    "id": "vt-EuaT7u6nS"
   },
   "source": [
    "Lets take a quick look at the data:"
   ]
  },
  {
   "cell_type": "code",
   "execution_count": 3,
   "metadata": {
    "colab": {
     "base_uri": "https://localhost:8080/",
     "height": 284
    },
    "colab_type": "code",
    "executionInfo": {
     "elapsed": 813,
     "status": "ok",
     "timestamp": 1577657897569,
     "user": {
      "displayName": "Kostya Kilimnik",
      "photoUrl": "https://lh3.googleusercontent.com/a-/AAuE7mA4XcmgpIPpD0ZTC-7tdjaMUIuV5VWq0AVxQZgs=s64",
      "userId": "05737956615900957173"
     },
     "user_tz": -120
    },
    "id": "vwmztTjqu6nV",
    "outputId": "c49eea2d-e8e8-4080-c47e-6ee873e69f57"
   },
   "outputs": [
    {
     "data": {
      "text/html": [
       "<div>\n",
       "<style scoped>\n",
       "    .dataframe tbody tr th:only-of-type {\n",
       "        vertical-align: middle;\n",
       "    }\n",
       "\n",
       "    .dataframe tbody tr th {\n",
       "        vertical-align: top;\n",
       "    }\n",
       "\n",
       "    .dataframe thead th {\n",
       "        text-align: right;\n",
       "    }\n",
       "</style>\n",
       "<table border=\"1\" class=\"dataframe\">\n",
       "  <thead>\n",
       "    <tr style=\"text-align: right;\">\n",
       "      <th></th>\n",
       "      <th>0</th>\n",
       "      <th>1</th>\n",
       "      <th>2</th>\n",
       "      <th>3</th>\n",
       "      <th>4</th>\n",
       "      <th>5</th>\n",
       "      <th>6</th>\n",
       "      <th>7</th>\n",
       "      <th>8</th>\n",
       "      <th>9</th>\n",
       "      <th>10</th>\n",
       "      <th>11</th>\n",
       "      <th>12</th>\n",
       "    </tr>\n",
       "  </thead>\n",
       "  <tbody>\n",
       "    <tr>\n",
       "      <th>count</th>\n",
       "      <td>106.000000</td>\n",
       "      <td>106.000000</td>\n",
       "      <td>106.000000</td>\n",
       "      <td>106.000000</td>\n",
       "      <td>106.000000</td>\n",
       "      <td>106.000000</td>\n",
       "      <td>106.000000</td>\n",
       "      <td>106.000000</td>\n",
       "      <td>106.000000</td>\n",
       "      <td>106.000000</td>\n",
       "      <td>106.000000</td>\n",
       "      <td>106.000000</td>\n",
       "      <td>106.000000</td>\n",
       "    </tr>\n",
       "    <tr>\n",
       "      <th>mean</th>\n",
       "      <td>13.031792</td>\n",
       "      <td>2.332642</td>\n",
       "      <td>2.367170</td>\n",
       "      <td>19.701887</td>\n",
       "      <td>98.556604</td>\n",
       "      <td>2.282170</td>\n",
       "      <td>1.981509</td>\n",
       "      <td>0.375755</td>\n",
       "      <td>1.620849</td>\n",
       "      <td>5.150472</td>\n",
       "      <td>0.951321</td>\n",
       "      <td>2.617830</td>\n",
       "      <td>756.915094</td>\n",
       "    </tr>\n",
       "    <tr>\n",
       "      <th>std</th>\n",
       "      <td>0.821117</td>\n",
       "      <td>1.126702</td>\n",
       "      <td>0.271797</td>\n",
       "      <td>3.159023</td>\n",
       "      <td>13.749514</td>\n",
       "      <td>0.573592</td>\n",
       "      <td>1.013492</td>\n",
       "      <td>0.124869</td>\n",
       "      <td>0.592705</td>\n",
       "      <td>2.443026</td>\n",
       "      <td>0.216509</td>\n",
       "      <td>0.680315</td>\n",
       "      <td>326.825135</td>\n",
       "    </tr>\n",
       "    <tr>\n",
       "      <th>min</th>\n",
       "      <td>11.460000</td>\n",
       "      <td>0.890000</td>\n",
       "      <td>1.700000</td>\n",
       "      <td>12.000000</td>\n",
       "      <td>70.000000</td>\n",
       "      <td>1.250000</td>\n",
       "      <td>0.470000</td>\n",
       "      <td>0.130000</td>\n",
       "      <td>0.420000</td>\n",
       "      <td>1.740000</td>\n",
       "      <td>0.480000</td>\n",
       "      <td>1.270000</td>\n",
       "      <td>278.000000</td>\n",
       "    </tr>\n",
       "    <tr>\n",
       "      <th>25%</th>\n",
       "      <td>12.332500</td>\n",
       "      <td>1.632500</td>\n",
       "      <td>2.210000</td>\n",
       "      <td>17.500000</td>\n",
       "      <td>88.000000</td>\n",
       "      <td>1.800000</td>\n",
       "      <td>1.017500</td>\n",
       "      <td>0.270000</td>\n",
       "      <td>1.252500</td>\n",
       "      <td>3.180000</td>\n",
       "      <td>0.802500</td>\n",
       "      <td>1.972500</td>\n",
       "      <td>510.000000</td>\n",
       "    </tr>\n",
       "    <tr>\n",
       "      <th>50%</th>\n",
       "      <td>13.135000</td>\n",
       "      <td>1.845000</td>\n",
       "      <td>2.350000</td>\n",
       "      <td>19.500000</td>\n",
       "      <td>97.000000</td>\n",
       "      <td>2.210000</td>\n",
       "      <td>2.035000</td>\n",
       "      <td>0.360000</td>\n",
       "      <td>1.545000</td>\n",
       "      <td>4.800000</td>\n",
       "      <td>0.960000</td>\n",
       "      <td>2.795000</td>\n",
       "      <td>675.000000</td>\n",
       "    </tr>\n",
       "    <tr>\n",
       "      <th>75%</th>\n",
       "      <td>13.677500</td>\n",
       "      <td>3.135000</td>\n",
       "      <td>2.580000</td>\n",
       "      <td>21.575000</td>\n",
       "      <td>105.750000</td>\n",
       "      <td>2.787500</td>\n",
       "      <td>2.855000</td>\n",
       "      <td>0.477500</td>\n",
       "      <td>1.970000</td>\n",
       "      <td>6.200000</td>\n",
       "      <td>1.097500</td>\n",
       "      <td>3.167500</td>\n",
       "      <td>1023.750000</td>\n",
       "    </tr>\n",
       "    <tr>\n",
       "      <th>max</th>\n",
       "      <td>14.830000</td>\n",
       "      <td>5.650000</td>\n",
       "      <td>3.230000</td>\n",
       "      <td>28.500000</td>\n",
       "      <td>151.000000</td>\n",
       "      <td>3.380000</td>\n",
       "      <td>5.080000</td>\n",
       "      <td>0.630000</td>\n",
       "      <td>3.580000</td>\n",
       "      <td>13.000000</td>\n",
       "      <td>1.420000</td>\n",
       "      <td>4.000000</td>\n",
       "      <td>1680.000000</td>\n",
       "    </tr>\n",
       "  </tbody>\n",
       "</table>\n",
       "</div>"
      ],
      "text/plain": [
       "               0           1           2           3           4           5   \\\n",
       "count  106.000000  106.000000  106.000000  106.000000  106.000000  106.000000   \n",
       "mean    13.031792    2.332642    2.367170   19.701887   98.556604    2.282170   \n",
       "std      0.821117    1.126702    0.271797    3.159023   13.749514    0.573592   \n",
       "min     11.460000    0.890000    1.700000   12.000000   70.000000    1.250000   \n",
       "25%     12.332500    1.632500    2.210000   17.500000   88.000000    1.800000   \n",
       "50%     13.135000    1.845000    2.350000   19.500000   97.000000    2.210000   \n",
       "75%     13.677500    3.135000    2.580000   21.575000  105.750000    2.787500   \n",
       "max     14.830000    5.650000    3.230000   28.500000  151.000000    3.380000   \n",
       "\n",
       "               6           7           8           9           10          11  \\\n",
       "count  106.000000  106.000000  106.000000  106.000000  106.000000  106.000000   \n",
       "mean     1.981509    0.375755    1.620849    5.150472    0.951321    2.617830   \n",
       "std      1.013492    0.124869    0.592705    2.443026    0.216509    0.680315   \n",
       "min      0.470000    0.130000    0.420000    1.740000    0.480000    1.270000   \n",
       "25%      1.017500    0.270000    1.252500    3.180000    0.802500    1.972500   \n",
       "50%      2.035000    0.360000    1.545000    4.800000    0.960000    2.795000   \n",
       "75%      2.855000    0.477500    1.970000    6.200000    1.097500    3.167500   \n",
       "max      5.080000    0.630000    3.580000   13.000000    1.420000    4.000000   \n",
       "\n",
       "                12  \n",
       "count   106.000000  \n",
       "mean    756.915094  \n",
       "std     326.825135  \n",
       "min     278.000000  \n",
       "25%     510.000000  \n",
       "50%     675.000000  \n",
       "75%    1023.750000  \n",
       "max    1680.000000  "
      ]
     },
     "execution_count": 3,
     "metadata": {},
     "output_type": "execute_result"
    }
   ],
   "source": [
    "pd.DataFrame(X_train).describe()"
   ]
  },
  {
   "cell_type": "markdown",
   "metadata": {
    "colab_type": "text",
    "id": "tyF5NZKuu6na"
   },
   "source": [
    "# PCA + Random forest"
   ]
  },
  {
   "cell_type": "markdown",
   "metadata": {
    "colab_type": "text",
    "id": "j31A0eSju6nb"
   },
   "source": [
    "Task 1: Use X_train, y_train to train a random forest with the deafult parameters. You can read more about the algorithm in SKlearn's documentation.\n",
    "Evaulate the algorithm using accuracy score and X_test, y_test."
   ]
  },
  {
   "cell_type": "code",
   "execution_count": 4,
   "metadata": {},
   "outputs": [],
   "source": [
    "r = 42"
   ]
  },
  {
   "cell_type": "code",
   "execution_count": 5,
   "metadata": {
    "colab": {},
    "colab_type": "code",
    "id": "9oAw7wuHMcXR",
    "outputId": "ff5f87cb-e3f6-4930-9f18-ae5aea8f485d"
   },
   "outputs": [
    {
     "data": {
      "text/plain": [
       "0.9861111111111112"
      ]
     },
     "execution_count": 5,
     "metadata": {},
     "output_type": "execute_result"
    }
   ],
   "source": [
    "RFC = RandomForestClassifier(random_state=r)\n",
    "RFC.fit(X_train, y_train)\n",
    "accuracy_score(y_test, RFC.predict(X_test))"
   ]
  },
  {
   "cell_type": "markdown",
   "metadata": {
    "colab_type": "text",
    "id": "TDppOZGpu6nd"
   },
   "source": [
    "Task 2: Now do the same, but use PCA.\n",
    "\n",
    "In this task, we want to keep all of the variance! No data is going to be discarded.\n",
    "You are asked to use the maximal number of componenets for PCA.\n",
    "\n",
    "Q1: Your co-worker says that the results should be at least as good as the results we had without PCA. Explain why might he say that.\n",
    "\n",
    "Print the accuracy of Random forest + PCA."
   ]
  },
  {
   "cell_type": "code",
   "execution_count": 6,
   "metadata": {
    "colab": {},
    "colab_type": "code",
    "id": "scpdweVJMcXc",
    "outputId": "a163b0d1-4278-43d4-9508-5373aaee959a"
   },
   "outputs": [
    {
     "data": {
      "text/plain": [
       "0.9166666666666666"
      ]
     },
     "execution_count": 6,
     "metadata": {},
     "output_type": "execute_result"
    }
   ],
   "source": [
    "pca = PCA(random_state=r).fit(X_train)\n",
    "X_train_pca = pca.transform(X_train)\n",
    "RFC = RandomForestClassifier(random_state=r)\n",
    "RFC.fit(X_train_pca, y_train)\n",
    "accuracy_score(y_test, RFC.predict(pca.transform(X_test)))"
   ]
  },
  {
   "cell_type": "markdown",
   "metadata": {
    "colab_type": "text",
    "id": "SNpyBiMKu6ne"
   },
   "source": [
    "Q2: Did the results improve\\stayed the same\\got worse? "
   ]
  },
  {
   "cell_type": "markdown",
   "metadata": {
    "colab_type": "text",
    "id": "2Yd-Q5F4McXx"
   },
   "source": [
    "They got worse, since we have just transformed our feature space which means that the relationship between the features has been shifted, which likely affects the ability of the Random Forest Classifier to make clean splits in the data."
   ]
  },
  {
   "cell_type": "markdown",
   "metadata": {
    "colab_type": "text",
    "id": "srsElEaFu6nf"
   },
   "source": [
    "# PCA + logistice regression"
   ]
  },
  {
   "cell_type": "markdown",
   "metadata": {
    "colab_type": "text",
    "id": "UXOopBpCu6nh"
   },
   "source": [
    "Task 3: repeat task 1 with logistic regression.\n",
    "\n",
    "Task 4: repeast task 2 with logistic regression."
   ]
  },
  {
   "cell_type": "code",
   "execution_count": 7,
   "metadata": {
    "colab": {},
    "colab_type": "code",
    "id": "4vJMn-72McX3",
    "outputId": "87c4a26b-e706-43a2-b326-22c453835c2b"
   },
   "outputs": [
    {
     "name": "stdout",
     "output_type": "stream",
     "text": [
      "0.9583333333333334\n",
      "0.9444444444444444\n"
     ]
    },
    {
     "name": "stderr",
     "output_type": "stream",
     "text": [
      "/Users/Adam/.ve/yandex/lib/python3.7/site-packages/sklearn/linear_model/_logistic.py:939: ConvergenceWarning: lbfgs failed to converge (status=1):\n",
      "STOP: TOTAL NO. of ITERATIONS REACHED LIMIT.\n",
      "\n",
      "Increase the number of iterations (max_iter) or scale the data as shown in:\n",
      "    https://scikit-learn.org/stable/modules/preprocessing.html.\n",
      "Please also refer to the documentation for alternative solver options:\n",
      "    https://scikit-learn.org/stable/modules/linear_model.html#logistic-regression\n",
      "  extra_warning_msg=_LOGISTIC_SOLVER_CONVERGENCE_MSG)\n"
     ]
    }
   ],
   "source": [
    "LR = LogisticRegression(random_state=r, max_iter=5000)\n",
    "LR.fit(X_train, y_train)\n",
    "print(accuracy_score(y_test, LR.predict(X_test)))\n",
    "\n",
    "LR = LogisticRegression(random_state=r, max_iter=5000)\n",
    "LR.fit(X_train_pca, y_train)\n",
    "print(accuracy_score(y_test, LR.predict(pca.transform(X_test))))"
   ]
  },
  {
   "cell_type": "markdown",
   "metadata": {
    "colab_type": "text",
    "id": "LGT6RdNgu6nj"
   },
   "source": [
    "Q3: Did the results improved\\stayed the same\\got worse?"
   ]
  },
  {
   "cell_type": "markdown",
   "metadata": {
    "colab_type": "text",
    "id": "UBgToHhKMcYC"
   },
   "source": [
    "They stayed pretty much the same"
   ]
  },
  {
   "cell_type": "markdown",
   "metadata": {
    "colab_type": "text",
    "id": "oK04J2cTu6nl"
   },
   "source": [
    "Q4: How can you explain the difference between answers to Q2 and Q3. Hint: think about the nature of Logistic regression and the main difference of Random forest from it."
   ]
  },
  {
   "cell_type": "markdown",
   "metadata": {
    "colab_type": "text",
    "id": "Yob2TsMaMcYF"
   },
   "source": [
    "The two algorithms create decision boundaries in fundamentally different ways: Logistic Regression is a linear function that splits the feature space into two regions, while Random Forest/Decision Trees create smaller and smaller subspaces that are then combined into a decision boundary. This means that Decision trees do a better job when the classes are well separated or have a non-linear boundary, whereas logistic regression will generalize better on a noisier dataset. When we do PCA, we shift the axes of the feature space in order to maximize variance, but that increase in variance does not necessarily correspond to a clearer separation of the different classes, in fact it might do the opposite. A Decision Tree will have an even harder time creating a good decision boundary if the classes are not well separated, while logistic regression is not as affected."
   ]
  },
  {
   "cell_type": "markdown",
   "metadata": {
    "colab_type": "text",
    "id": "l4XWOyHbu6nm"
   },
   "source": [
    "# Visualizing"
   ]
  },
  {
   "cell_type": "markdown",
   "metadata": {
    "colab_type": "text",
    "id": "TQhGp8yhu6no"
   },
   "source": [
    "Task 5: Use locally linear embedding in sklearn to visualize the data. Plot the results.\n",
    "Optimze the n_neighbors by running at least 5 times and use the best looking result you can find."
   ]
  },
  {
   "cell_type": "code",
   "execution_count": 8,
   "metadata": {
    "colab": {},
    "colab_type": "code",
    "id": "E4LVpfx5McYK"
   },
   "outputs": [],
   "source": [
    "import matplotlib.pyplot as plt\n",
    "from sklearn.manifold import TSNE\n",
    "import umap"
   ]
  },
  {
   "cell_type": "code",
   "execution_count": 9,
   "metadata": {
    "colab": {},
    "colab_type": "code",
    "id": "r8wl3ZpqMcYQ",
    "outputId": "d9952563-19d1-43ea-acb5-6cd61becba02"
   },
   "outputs": [
    {
     "data": {
      "image/png": "[encoded data removed]",
      "text/plain": [
       "<Figure size 432x288 with 1 Axes>"
      ]
     },
     "metadata": {
      "needs_background": "light"
     },
     "output_type": "display_data"
    }
   ],
   "source": [
    "linear_embedding = LLE(n_neighbors=7, random_state=r)\n",
    "X_trans = linear_embedding.fit_transform(X)\n",
    "plt.scatter(X_trans[:, 0], X_trans[:, 1])\n",
    "plt.title(\"LLE Visualization with 7 nearest neighbors\");"
   ]
  },
  {
   "cell_type": "markdown",
   "metadata": {
    "colab_type": "text",
    "id": "Lvly5aFVu6np"
   },
   "source": [
    "Task 6: Use t-SNE to visualize the data. Plot the results."
   ]
  },
  {
   "cell_type": "code",
   "execution_count": 12,
   "metadata": {
    "colab": {},
    "colab_type": "code",
    "id": "8S4X8YsXMcYX",
    "outputId": "68c09d03-b5e4-4f81-c650-ba63a833fa0c"
   },
   "outputs": [
    {
     "data": {
      "image/png": "[encoded data removed]",
      "text/plain": [
       "<Figure size 432x288 with 1 Axes>"
      ]
     },
     "metadata": {
      "needs_background": "light"
     },
     "output_type": "display_data"
    }
   ],
   "source": [
    "X_embedded = TSNE().fit_transform(X)\n",
    "plt.scatter(X_embedded[:, 0], X_embedded[:, 1]);\n",
    "# plt.legend(range(4, 9));"
   ]
  },
  {
   "cell_type": "markdown",
   "metadata": {
    "colab_type": "text",
    "id": "GXDAVI9ou6nr"
   },
   "source": [
    "Task 7: Use UMAP to visualize the data. Plot the results."
   ]
  },
  {
   "cell_type": "code",
   "execution_count": 13,
   "metadata": {
    "colab": {},
    "colab_type": "code",
    "id": "Y7BRxIQBMcYh",
    "outputId": "a4e292fb-2e31-4d85-fc4a-a5e4d4dea7fd"
   },
   "outputs": [
    {
     "data": {
      "image/png": "[encoded data removed]",
      "text/plain": [
       "<Figure size 432x288 with 1 Axes>"
      ]
     },
     "metadata": {
      "needs_background": "light"
     },
     "output_type": "display_data"
    }
   ],
   "source": [
    "reducer = umap.UMAP(random_state=r)\n",
    "embedding = reducer.fit_transform(X)\n",
    "plt.scatter(embedding[:, 0], embedding[:, 1]);"
   ]
  },
  {
   "cell_type": "markdown",
   "metadata": {
    "colab_type": "text",
    "id": "0_OxIzq0u6ns"
   },
   "source": [
    "Q5: If we run one of this visualziaing algorithms various times with the default parameters, are we guranteed to see the same results? Why?"
   ]
  },
  {
   "cell_type": "markdown",
   "metadata": {
    "colab_type": "text",
    "id": "NIkJ9WehMcYv"
   },
   "source": [
    "We won't see the same results for TSNE and UMAP if we use a different random state to initialize them, as both use probabilistic cost functions and are therefore non-deterministic algorithms. LLE won't vary since it depends on the distances between the k-nearest neighbors of each point, which don't vary  "
   ]
  }
 ],
 "metadata": {
  "colab": {
   "collapsed_sections": [],
   "name": "[USL][Adam] - HW3 PCA.ipynb",
   "provenance": []
  },
  "kernel_info": {
   "name": "python3"
  },
  "kernelspec": {
   "display_name": "Python 3",
   "language": "python",
   "name": "python3"
  },
  "language_info": {
   "codemirror_mode": {
    "name": "ipython",
    "version": 3
   },
   "file_extension": ".py",
   "mimetype": "text/x-python",
   "name": "python",
   "nbconvert_exporter": "python",
   "pygments_lexer": "ipython3",
   "version": "3.7.5"
  },
  "nteract": {
   "version": "0.15.0"
  }
 },
 "nbformat": 4,
 "nbformat_minor": 1
}
